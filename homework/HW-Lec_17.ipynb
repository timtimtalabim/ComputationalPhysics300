{
 "cells": [
  {
   "cell_type": "markdown",
   "id": "44d3d236",
   "metadata": {},
   "source": [
    "# First Iteration"
   ]
  },
  {
   "cell_type": "code",
   "execution_count": 12,
   "id": "57e33a76",
   "metadata": {},
   "outputs": [
    {
     "data": {
      "image/png": "[encoded data removed]",
      "text/plain": [
       "<Figure size 432x288 with 1 Axes>"
      ]
     },
     "metadata": {
      "needs_background": "light"
     },
     "output_type": "display_data"
    },
    {
     "name": "stdout",
     "output_type": "stream",
     "text": [
      "minimum value:    -2.9998650296000307\n",
      "minimum value with random search:  -2.9581801799018757\n"
     ]
    }
   ],
   "source": [
    "import numpy as np\n",
    "import matplotlib.pyplot as plt\n",
    "\n",
    "def LJ(r):\n",
    "    r6 = r**6\n",
    "    r12 = r6*r6\n",
    "    return 3*4*(1/r12 - 1/r6)\n",
    "\n",
    "r = np.linspace(1.0,3.0,100)\n",
    "plt.plot(r, LJ(r))\n",
    "plt.show()\n",
    "\n",
    "#Since there are 3 bonds of equal distance, they will have the same v through all 3 bonds and we just need\n",
    "#to find the sum of the three bonds\n",
    "\n",
    "print('minimum value:   ', min(LJ(r)))\n",
    "\n",
    "def random_search(N):\n",
    "    minf = LJ(1.0)\n",
    "    x0 = x_min\n",
    "    x1 = x0\n",
    "    \n",
    "    for i in range(1,N):\n",
    "        x0 = x_min+np.random.random()*(x_max-x_min)\n",
    "        if LJ(x0) <= LJ(x1):\n",
    "            minf = LJ(x0)\n",
    "            x1 = x0\n",
    "    \n",
    "    return minf\n",
    "\n",
    "print('minimum value with random search: ', random_search(10))"
   ]
  },
  {
   "cell_type": "markdown",
   "id": "3b59dbe6",
   "metadata": {},
   "source": [
    "# Second iteration, using scipy optimization"
   ]
  },
  {
   "cell_type": "code",
   "execution_count": 14,
   "id": "82a5dcee",
   "metadata": {},
   "outputs": [
    {
     "name": "stdout",
     "output_type": "stream",
     "text": [
      "step:  0   values: -2.9999999999995857\n",
      "The global minimum:   -2.9999999999999973\n"
     ]
    }
   ],
   "source": [
    "from scipy.optimize import minimize\n",
    "from numba import jit\n",
    "\n",
    "@jit\n",
    "def LJ(r):\n",
    "    r6 = r**6\n",
    "    r12 = r6*r6\n",
    "    return 4*(1/r12 - 1/r6)\n",
    "\n",
    "@jit\n",
    "def total_energy(positions):\n",
    "    \"\"\"\n",
    "    Calculate the total energy\n",
    "    input:\n",
    "    positions: 3*N array which represents the atomic positions\n",
    "    output\n",
    "    E: the total energy\n",
    "    \"\"\"\n",
    "    E = 0\n",
    "    N_atom = int(len(positions)/3)\n",
    "\n",
    "    #positions = [x0, y0, z0, x1, y1, z1, .....  , xn, yn, zn]\n",
    "    for i in range(N_atom-1):\n",
    "        for j in range(i+1, N_atom):\n",
    "            pos1 = positions[i*3:(i+1)*3]\n",
    "            pos2 = positions[j*3:(j+1)*3]\n",
    "            #print('pos1:  ', pos1)\n",
    "            #print('pos2:  ', pos2)\n",
    "            dist = np.linalg.norm(pos1-pos2)\n",
    "            #print(i,j, dist)\n",
    "            E += LJ(dist)\n",
    "    return E\n",
    "\n",
    "@jit\n",
    "def init_pos(N, L=5):\n",
    "    return L*np.random.random_sample((N*3,))\n",
    "\n",
    "f_values = []\n",
    "x_values = []\n",
    "N_attempts = 10\n",
    "N_atom = 3\n",
    "for i in range(N_attempts):\n",
    "    pos = init_pos(N_atom)\n",
    "    res = minimize(total_energy, pos, method='CG', tol=1e-4)\n",
    "    f_values.append(res.fun)\n",
    "    x_values.append(res.x)\n",
    "    if i%10==0:\n",
    "        print('step: ', i, '  values:', res.fun)\n",
    "\n",
    "print('The global minimum:  ', min(f_values))\n",
    "#Much much closer to 3 than previous iteration"
   ]
  }
 ],
 "metadata": {
  "kernelspec": {
   "display_name": "Python 3 (ipykernel)",
   "language": "python",
   "name": "python3"
  },
  "language_info": {
   "codemirror_mode": {
    "name": "ipython",
    "version": 3
   },
   "file_extension": ".py",
   "mimetype": "text/x-python",
   "name": "python",
   "nbconvert_exporter": "python",
   "pygments_lexer": "ipython3",
   "version": "3.9.5"
  }
 },
 "nbformat": 4,
 "nbformat_minor": 5
}

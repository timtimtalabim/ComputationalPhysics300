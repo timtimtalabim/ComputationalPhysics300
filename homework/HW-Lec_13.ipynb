{
 "cells": [
  {
   "cell_type": "code",
   "execution_count": 40,
   "id": "9849ec9e",
   "metadata": {},
   "outputs": [
    {
     "name": "stdout",
     "output_type": "stream",
     "text": [
      "[[2 1]\n",
      " [3 6]\n",
      " [1 1]\n",
      " ...\n",
      " [2 5]\n",
      " [3 3]\n",
      " [1 4]]\n",
      "The probability of getting sixes on two dice rolls are 0.166779\n"
     ]
    }
   ],
   "source": [
    "import numpy as np\n",
    "\n",
    "#np.random.seed(0)\n",
    "\n",
    "# Creates an array of size 1000000 x 2\n",
    "a=np.random.randint(1, 7, size=(1000000, 2))\n",
    "print(a)\n",
    "\n",
    "# Counts the amount of times a dice roll gives us 6, 6 and calculates the probability. \n",
    "count = np.count_nonzero(a == [6,6])\n",
    "print(\"The probability of getting sixes on two dice rolls are\", count/a.size)"
   ]
  },
  {
   "cell_type": "code",
   "execution_count": 125,
   "id": "cba3f286",
   "metadata": {},
   "outputs": [
    {
     "name": "stdout",
     "output_type": "stream",
     "text": [
      "The series that satisfies the magic constant has the coefficients {16807, 104 , 2**31-1}\n",
      "The sum of the series is 25.0\n",
      "The magic series is :\n",
      " [-5. -4. -1.  2.  0.  1. -3.  2. -2. -3.  4.  4. -3.  4. -0.  0.  3.  4.\n",
      " -5.  1.  4.  1.  4.  0. -3.  4. -2. -1. -4.  2.  3. -1. -4. -3.  3.  5.\n",
      " -1. -2. -3.  2.  1.  5.  4. -4. -2.  0.  1.  1.  5.  0. -3.  2. -4.  4.\n",
      "  0.  2. -2. -2.  2. -1.  1. -2.  2. -3. -4. -3. -2.  4. -4.  3.  4.  4.\n",
      "  2. -3.  4.  4.  2.  1.  0.  3.  4. -2. -3.  0. -2. -1.  5.  0. -3. -4.\n",
      "  3. -4. -5.  2. -3.  4. -0.  3.  2.  4.]\n"
     ]
    },
    {
     "data": {
      "image/png": "[encoded data removed]",
      "text/plain": [
       "<Figure size 640x480 with 1 Axes>"
      ]
     },
     "metadata": {},
     "output_type": "display_data"
    }
   ],
   "source": [
    "# A code to generate pseudo random numbers\n",
    "\n",
    "import matplotlib.pyplot as plt\n",
    "\n",
    "# Defines a function for the random number generator with inputs for {a, c, m}\n",
    "# returns an array of size 100 of random numbers from -5 to 5\n",
    "def randomizer(a = 16807, c = 0, m = 2**31-1):\n",
    "    N = 100\n",
    "    x = 1\n",
    "    results = []\n",
    "\n",
    "    for i in range(N):      \n",
    "        x = (a*x+c)%m\n",
    "        results.append(x)\n",
    "        \n",
    "    # Turns the values in the array results into a float from 0 to 1, multiplies it by 10, then minuses 5\n",
    "    # resulting in a range of -5 to 5\n",
    "    results = np.divide(results, max(results)) * 10 - 5\n",
    "    results = np.round(results)\n",
    "    return results\n",
    "\n",
    "# For loop that inputs a number for c till it finds a series that satisfies the magic constant\n",
    "for i in range(0, 1000):\n",
    "    if(sum(randomizer(c = i)) == 25):\n",
    "        print(\"The series that satisfies the magic constant has the coefficients {16807,\", i, \", 2**31-1}\")\n",
    "        print(\"The sum of the series is\", sum(randomizer(c = i)))\n",
    "        print(\"The magic series is :\\n\", randomizer(c = i))\n",
    "        plt.plot(randomizer(c = i),\"o\")\n",
    "        plt.show()\n",
    "        break"
   ]
  }
 ],
 "metadata": {
  "kernelspec": {
   "display_name": "Python 3",
   "language": "python",
   "name": "python3"
  },
  "language_info": {
   "codemirror_mode": {
    "name": "ipython",
    "version": 3
   },
   "file_extension": ".py",
   "mimetype": "text/x-python",
   "name": "python",
   "nbconvert_exporter": "python",
   "pygments_lexer": "ipython3",
   "version": "3.9.5"
  }
 },
 "nbformat": 4,
 "nbformat_minor": 5
}

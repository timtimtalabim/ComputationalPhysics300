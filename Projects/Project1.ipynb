{
 "cells": [
  {
   "cell_type": "markdown",
   "id": "7618f087",
   "metadata": {},
   "source": [
    "# Project 1: Animation of Wave Propagation\n",
    "### Tim Aguirre\n",
    "### PHYS 300\n",
    "### Dr. Qiang Zhu"
   ]
  },
  {
   "cell_type": "markdown",
   "id": "0d1dd387",
   "metadata": {},
   "source": [
    "## Intro\n",
    "    Hello, for my project I will be presenting my program on an animation of a wave propagation. For this program I created different iterations focusing on one aspect of the program at a time. I used a plethora of libraries for the program mainly using plotly, ipywidget and numpy.\n",
    "\n",
    "## Imports"
   ]
  },
  {
   "cell_type": "code",
   "execution_count": 2,
   "id": "441e8131",
   "metadata": {},
   "outputs": [],
   "source": [
    "# Used for creating plots and graphs\n",
    "import plotly.graph_objects as go\n",
    "# Used for creating user interactivity in the form of buttons\n",
    "import ipywidgets as widgets\n",
    "# Used for creating arrays and functions for graphs\n",
    "import numpy as np"
   ]
  },
  {
   "cell_type": "markdown",
   "id": "555fcfa7",
   "metadata": {},
   "source": [
    "## Code 1: 3d Wave Graph\n",
    "    This iteration of the code creates a 3d graph of a wave using plotly that you can manipulate by changing adding to the x and y values."
   ]
  },
  {
   "cell_type": "code",
   "execution_count": null,
   "id": "061d647c",
   "metadata": {
    "scrolled": false
   },
   "outputs": [],
   "source": [
    "# Plot points for the graph, you can increase the resolution by changing the values in ones and linspace\n",
    "x = np.outer(np.linspace(-200, 200, 250), np.ones(250))\n",
    "y = x.copy().T\n",
    "z = np.sin(np.sqrt(x**2 + y**2))\n",
    "\n",
    "# Creates the 3d graph of a wave, you can add to the x and y to manipulate the center of the wave\n",
    "fig = go.Figure(data=[go.Surface(x=x+10, y=y, z=z), go.Surface(x=x-10, y=y, z=z)])\n",
    "\n",
    "# Updates the layout by changing the size and axes of the graph\n",
    "fig.update_layout(\n",
    "    \n",
    "    scene = dict(\n",
    "        xaxis = dict(nticks=4, range=[-100,100],),\n",
    "        yaxis = dict(nticks=4, range=[-100,100],),\n",
    "        zaxis = dict(nticks=4, range=[-10,10],),),\n",
    "        width=900,\n",
    "        height=900,\n",
    "        margin=dict(r=20, l=10, b=10, t=10))\n",
    "\n",
    "# Displays the figure\n",
    "fig.show()"
   ]
  },
  {
   "cell_type": "markdown",
   "id": "9863b878",
   "metadata": {},
   "source": [
    "## Code 2: Animating the graph\n",
    "    For this iteration, I used the built in animation function of plotly. Due to its inefficiency it is very slowly but it works through rendering each graph on its own and cycling them as frames."
   ]
  },
  {
   "cell_type": "code",
   "execution_count": 1,
   "id": "5f96d0fa",
   "metadata": {},
   "outputs": [
    {
     "ename": "NameError",
     "evalue": "name 'np' is not defined",
     "output_type": "error",
     "traceback": [
      "\u001b[0;31m---------------------------------------------------------------------------\u001b[0m",
      "\u001b[0;31mNameError\u001b[0m                                 Traceback (most recent call last)",
      "\u001b[0;32m/tmp/ipykernel_13155/2673608720.py\u001b[0m in \u001b[0;36m<module>\u001b[0;34m\u001b[0m\n\u001b[1;32m      1\u001b[0m \u001b[0;31m# Plot points for the graph\u001b[0m\u001b[0;34m\u001b[0m\u001b[0;34m\u001b[0m\u001b[0;34m\u001b[0m\u001b[0m\n\u001b[0;32m----> 2\u001b[0;31m \u001b[0mx\u001b[0m \u001b[0;34m=\u001b[0m \u001b[0mnp\u001b[0m\u001b[0;34m.\u001b[0m\u001b[0mouter\u001b[0m\u001b[0;34m(\u001b[0m\u001b[0mnp\u001b[0m\u001b[0;34m.\u001b[0m\u001b[0mlinspace\u001b[0m\u001b[0;34m(\u001b[0m\u001b[0;34m-\u001b[0m\u001b[0;36m200\u001b[0m\u001b[0;34m,\u001b[0m \u001b[0;36m200\u001b[0m\u001b[0;34m,\u001b[0m \u001b[0;36m250\u001b[0m\u001b[0;34m)\u001b[0m\u001b[0;34m,\u001b[0m \u001b[0mnp\u001b[0m\u001b[0;34m.\u001b[0m\u001b[0mones\u001b[0m\u001b[0;34m(\u001b[0m\u001b[0;36m250\u001b[0m\u001b[0;34m)\u001b[0m\u001b[0;34m)\u001b[0m\u001b[0;34m\u001b[0m\u001b[0;34m\u001b[0m\u001b[0m\n\u001b[0m\u001b[1;32m      3\u001b[0m \u001b[0my\u001b[0m \u001b[0;34m=\u001b[0m \u001b[0mx\u001b[0m\u001b[0;34m.\u001b[0m\u001b[0mcopy\u001b[0m\u001b[0;34m(\u001b[0m\u001b[0;34m)\u001b[0m\u001b[0;34m.\u001b[0m\u001b[0mT\u001b[0m\u001b[0;34m\u001b[0m\u001b[0;34m\u001b[0m\u001b[0m\n\u001b[1;32m      4\u001b[0m \u001b[0mz\u001b[0m \u001b[0;34m=\u001b[0m \u001b[0mnp\u001b[0m\u001b[0;34m.\u001b[0m\u001b[0msin\u001b[0m\u001b[0;34m(\u001b[0m\u001b[0mnp\u001b[0m\u001b[0;34m.\u001b[0m\u001b[0msqrt\u001b[0m\u001b[0;34m(\u001b[0m\u001b[0mx\u001b[0m\u001b[0;34m**\u001b[0m\u001b[0;36m2\u001b[0m \u001b[0;34m+\u001b[0m \u001b[0my\u001b[0m\u001b[0;34m**\u001b[0m\u001b[0;36m2\u001b[0m\u001b[0;34m)\u001b[0m\u001b[0;34m)\u001b[0m\u001b[0;34m\u001b[0m\u001b[0;34m\u001b[0m\u001b[0m\n\u001b[1;32m      5\u001b[0m \u001b[0;34m\u001b[0m\u001b[0m\n",
      "\u001b[0;31mNameError\u001b[0m: name 'np' is not defined"
     ]
    }
   ],
   "source": [
    "# Plot points for the graph\n",
    "x = np.outer(np.linspace(-200, 200, 250), np.ones(250))\n",
    "y = x.copy().T\n",
    "z = np.sin(np.sqrt(x**2 + y**2))\n",
    "\n",
    "# Creates the 3d graph of a wave\n",
    "fig = go.Figure(data=[go.Surface(x=x, y=y, z=z)], \n",
    "                \n",
    "                # Adds a button that plays the animation of the wave\n",
    "                layout = go.Layout(updatemenus=[dict(type = \"buttons\", \n",
    "                                    buttons=[dict(label=\"Play\",method=\"animate\", args=[None])])]),\n",
    "                \n",
    "                # The frames for the animation, you can change it by manipulating iterations\n",
    "                frames = [go.Frame(data=[go.Surface(x=x, y=y, z=np.sin(np.sqrt(x**2 + y**2) \n",
    "                                                    + np.pi * i/2))]) for i in range (0,5)])\n",
    "\n",
    "# Updates the layout by changing the size and axes of the graph\n",
    "fig.update_layout(\n",
    "    \n",
    "    scene = dict(\n",
    "        xaxis = dict(nticks=4, range=[-100,100],),\n",
    "        yaxis = dict(nticks=4, range=[-100,100],),\n",
    "        zaxis = dict(nticks=4, range=[-10,10],),),\n",
    "        width=900,\n",
    "        height=900,\n",
    "        margin=dict(r=20, l=10, b=10, t=10))\n",
    "\n",
    "# Displays the graph\n",
    "fig.show()"
   ]
  },
  {
   "cell_type": "markdown",
   "id": "8c6c281d",
   "metadata": {},
   "source": [
    "## Code 3: Interactive board\n",
    "    This iteration is for the creation of the interactive board used to put the origins of the waves. It displays a 26 x 26 scatter plot of points from -100 to 100. What point you choose determines the center point of the waves that will be displayed in the 3d graph."
   ]
  },
  {
   "cell_type": "code",
   "execution_count": 5,
   "id": "cab7f6fb",
   "metadata": {
    "scrolled": false
   },
   "outputs": [
    {
     "data": {
      "application/vnd.jupyter.widget-view+json": {
       "model_id": "a36136ac15324e78abb2f29145249158",
       "version_major": 2,
       "version_minor": 0
      },
      "text/plain": [
       "FigureWidget({\n",
       "    'data': [{'marker': {'color': [#a3a7e4, #a3a7e4, #a3a7e4, ..., #a3a7e4,\n",
       "                   …"
      ]
     },
     "metadata": {},
     "output_type": "display_data"
    }
   ],
   "source": [
    "# x and y plot points\n",
    "fill = np.linspace(-100,100,26,endpoint=True)\n",
    "x = []\n",
    "y = []\n",
    "\n",
    "# Array used for the waves created at the points picked\n",
    "waves = []\n",
    "\n",
    "# Nested for loop that fills the x and y arrays with plot points\n",
    "for i in range(0,26):\n",
    "    for j in range(0,26):\n",
    "        y.append(fill[j])\n",
    "        x.append(fill[i])\n",
    "\n",
    "# Creates a scatter plot of a 26 x 26 square of points\n",
    "f = go.FigureWidget([go.Scatter(x=x, y=y, mode='markers')], layout = go.Layout(width=700,height=700))\n",
    "\n",
    "# Colors and changes dot size\n",
    "scatter = f.data[0]\n",
    "colors = ['#a3a7e4'] * 729\n",
    "scatter.marker.color = colors\n",
    "scatter.marker.size = [10] * 729\n",
    "f.layout.hovermode = 'closest'\n",
    "\n",
    "# Create our callback function for when a dot gets clicked\n",
    "def update_point(trace, points, selector):\n",
    "    c = list(scatter.marker.color)\n",
    "    s = list(scatter.marker.size)\n",
    "    for i in points.point_inds:\n",
    "        c[i] = '#bae2be'\n",
    "        s[i] = 20\n",
    "        with f.batch_update():\n",
    "            scatter.marker.color = c\n",
    "            scatter.marker.size = s\n",
    "    waves.append([points.xs[0],points.ys[0]])\n",
    "    print(\"Create wave with origin :\", points.xs[0], points.ys[0])\n",
    "\n",
    "# Calls the callback function when a dot is clicked\n",
    "scatter.on_click(update_point)\n",
    "\n",
    "# Displays the interactive scatter plot\n",
    "f"
   ]
  },
  {
   "cell_type": "markdown",
   "id": "8301ca3c",
   "metadata": {},
   "source": [
    "### Button testing\n",
    "    Small code sample to test button functionality of ipywidgets"
   ]
  },
  {
   "cell_type": "code",
   "execution_count": 6,
   "id": "4eb8a918",
   "metadata": {},
   "outputs": [
    {
     "data": {
      "application/vnd.jupyter.widget-view+json": {
       "model_id": "98ada432f4b941c59c64422ec1907562",
       "version_major": 2,
       "version_minor": 0
      },
      "text/plain": [
       "Button(description='Click Me!', style=ButtonStyle())"
      ]
     },
     "metadata": {},
     "output_type": "display_data"
    },
    {
     "data": {
      "application/vnd.jupyter.widget-view+json": {
       "model_id": "2e7dfbb3f5d94e80aa5a807807739e45",
       "version_major": 2,
       "version_minor": 0
      },
      "text/plain": [
       "Output()"
      ]
     },
     "metadata": {},
     "output_type": "display_data"
    }
   ],
   "source": [
    "import ipywidgets as widgets\n",
    "from IPython.display import display\n",
    "button = widgets.Button(description=\"Click Me!\")\n",
    "output = widgets.Output()\n",
    "\n",
    "display(button, output)\n",
    "\n",
    "def on_button_clicked(b):\n",
    "    with output:\n",
    "        print(\"Button clicked.\")\n",
    "\n",
    "button.on_click(on_button_clicked)"
   ]
  },
  {
   "cell_type": "markdown",
   "id": "d48f9140",
   "metadata": {},
   "source": [
    "# Final Code\n",
    "    This code incorporates all of the previous iterations and adds an interactive button interface to display the resulting 3d graph from the chosen points in the scatterplot."
   ]
  },
  {
   "cell_type": "code",
   "execution_count": 7,
   "id": "b374c9c2",
   "metadata": {},
   "outputs": [
    {
     "data": {
      "application/vnd.jupyter.widget-view+json": {
       "model_id": "d8e5ea2626d046f59e618107344dee99",
       "version_major": 2,
       "version_minor": 0
      },
      "text/plain": [
       "VBox(children=(FigureWidget({\n",
       "    'data': [{'marker': {'color': [#a3a7e4, #a3a7e4, #a3a7e4, ..., #a3a7e4,\n",
       "    …"
      ]
     },
     "metadata": {},
     "output_type": "display_data"
    }
   ],
   "source": [
    "# x and y plot points\n",
    "fill = np.linspace(-100,100,26,endpoint=True)\n",
    "x = []\n",
    "y = []\n",
    "\n",
    "# Array used for the waves created at the points picked\n",
    "waves = []\n",
    "\n",
    "# Nested for loop that fills the x and y arrays with plot points\n",
    "for i in range(0,26):\n",
    "    for j in range(0,26):\n",
    "        y.append(fill[j])\n",
    "        x.append(fill[i])\n",
    "\n",
    "# Creates a scatter plot of a 26 x 26 square of points\n",
    "f = go.FigureWidget([go.Scatter(x=x, y=y, mode='markers')], layout = go.Layout(width=700,height=700))\n",
    "\n",
    "# Colors and changes dot size\n",
    "scatter = f.data[0]\n",
    "colors = ['#a3a7e4'] * 729\n",
    "scatter.marker.color = colors\n",
    "scatter.marker.size = [10] * 729\n",
    "f.layout.hovermode = 'closest'\n",
    "\n",
    "\n",
    "# create our callback function\n",
    "def update_point(trace, points, selector):\n",
    "    c = list(scatter.marker.color)\n",
    "    s = list(scatter.marker.size)\n",
    "    for i in points.point_inds:\n",
    "        c[i] = '#bae2be'\n",
    "        s[i] = 20\n",
    "        with f.batch_update():\n",
    "            scatter.marker.color = c\n",
    "            scatter.marker.size = s\n",
    "    waves.append([points.xs[0],points.ys[0]])\n",
    "    print(\"Create wave with origin :\", points.xs[0], points.ys[0])\n",
    "\n",
    "# Create our callback function for when a dot gets clicked\n",
    "scatter.on_click(update_point)\n",
    "\n",
    "# Creates the button and defines its properties\n",
    "button = widgets.Button(description=\"Create Wave Graph\")\n",
    "output = widgets.VBox()\n",
    "out = widgets.Output()\n",
    "\n",
    "# Creates callback function for when the button is pressed and displays the 3d graph\n",
    "def on_button_clicked(b):\n",
    "    \n",
    "    # Plot points for the graph\n",
    "    x = np.outer(np.linspace(-200, 200, 250), np.ones(250))\n",
    "    y = x.copy().T\n",
    "    z = np.sin(np.sqrt(x**2 + y**2))\n",
    "\n",
    "    # Creates the 3d graph of a wave, iterates through waves array and displays all origins created.\n",
    "    fig = go.Figure(data=[go.Surface(x=x+i[:][0], y=y+i[:][1], z=z) for i in waves],\n",
    "                    \n",
    "                    # Adds a button that plays the animation of the wave\n",
    "                    layout = go.Layout(updatemenus=[dict(type = \"buttons\", \n",
    "                                       buttons=[dict(label=\"Play\",method=\"animate\", args=[None])])]),\n",
    "                    \n",
    "                    # The frames for the animation, you can change it by manipulating iterations\n",
    "                    frames = [go.Frame(data=[go.Surface(x=x+i[:][0], y=y+i[:][1], z=np.sin(np.sqrt(x**2 + y**2) \n",
    "                                                         + np.pi * j/2)) for i in waves]) for j in range (0,5)])\n",
    "    \n",
    "    # Updates the layout by changing the size and axes of the graph\n",
    "    fig.update_layout(\n",
    "\n",
    "        scene = dict(\n",
    "            xaxis = dict(nticks=4, range=[-100,100],),\n",
    "            yaxis = dict(nticks=4, range=[-100,100],),\n",
    "            zaxis = dict(nticks=4, range=[-10,10],),),\n",
    "            width=900,\n",
    "            height=900,\n",
    "            autosize=False,\n",
    "            margin=dict(r=20, l=10, b=10, t=10))\n",
    "    \n",
    "    fig.show()\n",
    "    print(\"3D Wave Graph Created\")\n",
    "\n",
    "# Calls the callback function when the button is clicked\n",
    "button.on_click(on_button_clicked)\n",
    "\n",
    "# Defines the output then displays the output\n",
    "output.children = [f,button,out]\n",
    "output"
   ]
  }
 ],
 "metadata": {
  "kernelspec": {
   "display_name": "Python 3 (ipykernel)",
   "language": "python",
   "name": "python3"
  },
  "language_info": {
   "codemirror_mode": {
    "name": "ipython",
    "version": 3
   },
   "file_extension": ".py",
   "mimetype": "text/x-python",
   "name": "python",
   "nbconvert_exporter": "python",
   "pygments_lexer": "ipython3",
   "version": "3.9.5"
  }
 },
 "nbformat": 4,
 "nbformat_minor": 5
}
